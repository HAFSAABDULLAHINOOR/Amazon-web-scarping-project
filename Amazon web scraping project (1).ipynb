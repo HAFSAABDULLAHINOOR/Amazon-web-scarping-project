{
 "cells": [
  {
   "cell_type": "code",
   "execution_count": 4,
   "id": "b918cc14-4f36-471e-858f-bcb081fe73e6",
   "metadata": {},
   "outputs": [],
   "source": [
    "# importing  libraries \n",
    "from bs4 import BeautifulSoup\n",
    "import requests\n",
    "import time\n",
    "import datetime\n",
    "\n",
    "import smtplib"
   ]
  },
  {
   "cell_type": "code",
   "execution_count": 6,
   "id": "507b43f9-e5f3-47a9-856a-5c53b3b94d8e",
   "metadata": {},
   "outputs": [
    {
     "name": "stdout",
     "output_type": "stream",
     "text": [
      "\n",
      "                     Got Data Funny Business Data Analyst T-Shirt\n",
      "                    \n",
      "$19.99\n"
     ]
    }
   ],
   "source": [
    "# Connecting to Website and pulling in data\n",
    "URL = 'https://www.amazon.com/Funny-Data-Systems-Business-Analyst/dp/B07FNW9FGJ/ref=sr_1_3?dchild=1&keywords=data%2Banalyst%2Btshirt&qid=1626655184&sr=8-3&customId=B0752XJYNL&th=1'\n",
    "\n",
    "headers = {\"user_Agent\": \"Mozilla/5.0 (Windows NT 10.0; Win64; x64) AppleWebKit/537.36 (KHTML, like Gecko) Chrome/130.0.0.0 Safari/537.36 Edg/130.0.0.0\"}\n",
    "\n",
    "page  = requests.get(URL,headers=headers)\n",
    "\n",
    "soup1 = BeautifulSoup(page.content,'html.parser')\n",
    "soup2 = BeautifulSoup(soup1.prettify(),'html.parser')\n",
    "title = soup2.find(id='productTitle').get_text()\n",
    "price_symbol = soup2.find(class_='a-price-symbol').get_text(strip=True)\n",
    "price_whole = soup2.find(class_='a-price-whole').get_text(strip=True)\n",
    "price_fraction = soup2.find(class_='a-price-fraction').get_text(strip=True)\n",
    "price = f'{price_symbol}{price_whole}{price_fraction}'\n",
    "\n",
    "print(title)\n",
    "print(price)\n",
    "\n",
    "\n",
    "\n",
    "\n",
    "\n",
    "\n"
   ]
  },
  {
   "cell_type": "code",
   "execution_count": 8,
   "id": "702ec4db-f6de-476c-a318-c43794f8c7af",
   "metadata": {},
   "outputs": [
    {
     "name": "stdout",
     "output_type": "stream",
     "text": [
      "Got Data Funny Business Data Analyst T-Shirt\n",
      "19.99\n"
     ]
    }
   ],
   "source": [
    "# Cleaning up the data \n",
    "price = price.strip()[1:]\n",
    "title = title.strip()\n",
    "print(title)\n",
    "print(price)"
   ]
  },
  {
   "cell_type": "code",
   "execution_count": 10,
   "id": "f856a829-45b0-4d4a-9686-2172a380972f",
   "metadata": {},
   "outputs": [
    {
     "name": "stdout",
     "output_type": "stream",
     "text": [
      "2024-12-12\n"
     ]
    }
   ],
   "source": [
    "# Create a Timestamp for your output to track when data was collected\n",
    "import datetime\n",
    "\n",
    "today = datetime.date.today()\n",
    "\n",
    "print(today)"
   ]
  },
  {
   "cell_type": "code",
   "execution_count": 12,
   "id": "89c70d08-c1a8-457e-a142-62342eed04c3",
   "metadata": {},
   "outputs": [],
   "source": [
    "# Createing CSV and writing headers and data into the file\n",
    "import csv \n",
    "\n",
    "header = ['Title', 'Price', 'Date']\n",
    "data = [title, price, today]\n",
    "\n",
    "\n",
    "with open('AmazonWebScraperDataset.csv', 'w', newline='', encoding='UTF8') as f:\n",
    "    writer = csv.writer(f)\n",
    "    writer.writerow(header)\n",
    "    writer.writerow(data)"
   ]
  },
  {
   "cell_type": "code",
   "execution_count": 1,
   "id": "802b8b80-5812-44be-80c5-a2ccdc9f1bc1",
   "metadata": {},
   "outputs": [
    {
     "name": "stdout",
     "output_type": "stream",
     "text": [
      "                                          Title  Price        Date\n",
      "0  Got Data Funny Business Data Analyst T-Shirt  19.99  2024-12-12\n",
      "1  Got Data Funny Business Data Analyst T-Shirt  19.99  2024-12-12\n",
      "2  Got Data Funny Business Data Analyst T-Shirt  19.99  2024-12-12\n",
      "3  Got Data Funny Business Data Analyst T-Shirt  19.99  2024-12-12\n",
      "4  Got Data Funny Business Data Analyst T-Shirt  19.99  2024-12-12\n",
      "5  Got Data Funny Business Data Analyst T-Shirt  19.99  2024-12-12\n"
     ]
    }
   ],
   "source": [
    "import pandas as pd\n",
    "\n",
    "df = pd.read_csv(r\"C:\\Users\\HP\\AmazonWebScraperDataset.csv\")\n",
    "\n",
    "print(df)"
   ]
  },
  {
   "cell_type": "code",
   "execution_count": null,
   "id": "7a97b2e3-3468-4d17-939b-24de72ef08c5",
   "metadata": {},
   "outputs": [],
   "source": []
  },
  {
   "cell_type": "code",
   "execution_count": 46,
   "id": "ca9a9edd-591a-4e89-8390-884528fe3a1a",
   "metadata": {},
   "outputs": [],
   "source": [
    "#appending data to the csv\n",
    "\n",
    "with open('AmazonWebScraperDataset.csv', 'a+', newline='', encoding='UTF8') as f:\n",
    "    writer = csv.writer(f)\n",
    "    writer.writerow(data)"
   ]
  },
  {
   "cell_type": "code",
   "execution_count": 54,
   "id": "d16c1e37-d35f-41fa-bd05-4d041feedef5",
   "metadata": {},
   "outputs": [],
   "source": [
    "#Combine all of the above code into one function\n",
    "def check_price():\n",
    "   URL = 'https://www.amazon.com/Funny-Data-Systems-Business-Analyst/dp/B07FNW9FGJ/ref=sr_1_3?dchild=1&keywords=data%2Banalyst%2Btshirt&qid=1626655184&sr=8-3&customId=B0752XJYNL&th=1'\n",
    "\n",
    "   headers = {\"user_Agent\": \"Mozilla/5.0 (Windows NT 10.0; Win64; x64) AppleWebKit/537.36 (KHTML, like Gecko) Chrome/130.0.0.0 Safari/537.36 Edg/130.0.0.0\"}\n",
    "\n",
    "   page  = requests.get(URL,headers=headers)\n",
    "\n",
    "   soup1 = BeautifulSoup(page.content,'html.parser')\n",
    "   soup2 = BeautifulSoup(soup1.prettify(),'html.parser')\n",
    "   title = soup2.find(id='productTitle').get_text()\n",
    "   price_symbol = soup2.find(class_='a-price-symbol').get_text(strip=True)\n",
    "   price_whole = soup2.find(class_='a-price-whole').get_text(strip=True)\n",
    "   price_fraction = soup2.find(class_='a-price-fraction').get_text(strip=True)\n",
    "   price = f'{price_symbol}{price_whole}{price_fraction}'\n",
    "   price = price.strip()[1:]\n",
    "   title = title.strip()\n",
    "\n",
    "   import datetime\n",
    "   today = datetime.date.today()\n",
    "\n",
    "  \n",
    "   import csv \n",
    "\n",
    "   header = ['Title', 'Price', 'Date']\n",
    "   data = [title, price, today]\n",
    "\n",
    "   with open('AmazonWebScraperDataset.csv', 'a+', newline='', encoding='UTF8') as f:\n",
    "     writer = csv.writer(f)\n",
    "     writer.writerow(data)\n",
    "\n",
    "if (price==14):\n",
    "     send_mail()\n",
    "\n",
    "\n",
    "\n"
   ]
  },
  {
   "cell_type": "code",
   "execution_count": null,
   "id": "1b1ece44-0de3-450d-8079-c37ce595717c",
   "metadata": {},
   "outputs": [],
   "source": [
    "# Runs check_price after a set time and inputs data into your CSV\n",
    "while(True):\n",
    "    check_price()\n",
    "    time.sleep(86400)"
   ]
  },
  {
   "cell_type": "code",
   "execution_count": 3,
   "id": "b1dfffae-171e-45e5-9bb8-a7e18ba14443",
   "metadata": {},
   "outputs": [
    {
     "name": "stdout",
     "output_type": "stream",
     "text": [
      "                                          Title  Price        Date\n",
      "0  Got Data Funny Business Data Analyst T-Shirt  19.99  2024-12-12\n",
      "1  Got Data Funny Business Data Analyst T-Shirt  19.99  2024-12-12\n",
      "2  Got Data Funny Business Data Analyst T-Shirt  19.99  2024-12-12\n",
      "3  Got Data Funny Business Data Analyst T-Shirt  19.99  2024-12-12\n",
      "4  Got Data Funny Business Data Analyst T-Shirt  19.99  2024-12-12\n",
      "5  Got Data Funny Business Data Analyst T-Shirt  19.99  2024-12-12\n"
     ]
    }
   ],
   "source": [
    "import pandas as pd\n",
    "\n",
    "df = pd.read_csv(r'C:\\Users\\HP\\AmazonWebScraperDataset.csv')\n",
    "\n",
    "print(df)"
   ]
  },
  {
   "cell_type": "code",
   "execution_count": 5,
   "id": "067b55db-63ab-44d1-a6aa-3b75296c0c3f",
   "metadata": {},
   "outputs": [],
   "source": [
    "#send me an email  when a price hits below a certain level <14\n",
    "\n",
    "\n",
    "def send_mail():\n",
    "    server = smtplib.SMTP_SSL('smtp.gmail.com',465)\n",
    "    server.ehlo()\n",
    "    #server.starttls()\n",
    "    server.ehlo()\n",
    "    server.login('hafswita100@gmail.com','HAF12345sa')\n",
    "    \n",
    "    subject = \"The Shirt you want is below $15! Now is your chance to buy!\"\n",
    "    body = \"hafsa, This is the moment we have been waiting for. Now is your chance to pick up the shirt of your dreams. Don't mess it up! Link here: https://www.amazon.com/Funny-Data-Systems-Business-Analyst/dp/B07FNW9FGJ/ref=sr_1_3?dchild=1&keywords=data+analyst+tshirt&qid=1626655184&sr=8-3\"\n",
    "   \n",
    "    msg = f\"Subject: {subject}\\n\\n{body}\"\n",
    "    \n",
    "    server.sendmail(\n",
    "        'hafswita100@gmail.com',\n",
    "        msg\n",
    "     \n",
    "    )"
   ]
  },
  {
   "cell_type": "code",
   "execution_count": null,
   "id": "2ad802d1-9732-4fdf-9c10-a8205cc2d004",
   "metadata": {},
   "outputs": [],
   "source": []
  },
  {
   "cell_type": "code",
   "execution_count": null,
   "id": "6262d2a5-5da5-4b0c-9885-f2551167263b",
   "metadata": {},
   "outputs": [],
   "source": []
  },
  {
   "cell_type": "code",
   "execution_count": null,
   "id": "bea2fd84-1c9d-428b-ae65-0ba5ce16b935",
   "metadata": {},
   "outputs": [],
   "source": []
  },
  {
   "cell_type": "code",
   "execution_count": null,
   "id": "20fc6194-7975-4a86-9dac-ea5790931368",
   "metadata": {},
   "outputs": [],
   "source": []
  },
  {
   "cell_type": "code",
   "execution_count": null,
   "id": "953f9a96-e015-4d50-b80c-c9e8426cfdb6",
   "metadata": {},
   "outputs": [],
   "source": []
  },
  {
   "cell_type": "code",
   "execution_count": null,
   "id": "0eaeac5c-80b0-4fa1-8bdd-190ebc7b1a1b",
   "metadata": {},
   "outputs": [],
   "source": []
  },
  {
   "cell_type": "code",
   "execution_count": null,
   "id": "c19a68fb-4737-4910-bebb-0167603b1a35",
   "metadata": {},
   "outputs": [],
   "source": []
  },
  {
   "cell_type": "code",
   "execution_count": null,
   "id": "715099cb-2093-4a25-b1f8-cff456ed50f6",
   "metadata": {},
   "outputs": [],
   "source": []
  }
 ],
 "metadata": {
  "kernelspec": {
   "display_name": "Python 3 (ipykernel)",
   "language": "python",
   "name": "python3"
  },
  "language_info": {
   "codemirror_mode": {
    "name": "ipython",
    "version": 3
   },
   "file_extension": ".py",
   "mimetype": "text/x-python",
   "name": "python",
   "nbconvert_exporter": "python",
   "pygments_lexer": "ipython3",
   "version": "3.12.4"
  }
 },
 "nbformat": 4,
 "nbformat_minor": 5
}
